{
  "nbformat": 4,
  "nbformat_minor": 0,
  "metadata": {
    "accelerator": "GPU",
    "colab": {
      "name": "cyclegan.ipynb",
      "provenance": [],
      "private_outputs": true,
      "collapsed_sections": [],
      "toc_visible": true
    },
    "kernelspec": {
      "display_name": "Python 3",
      "language": "python",
      "name": "python3"
    },
    "language_info": {
      "codemirror_mode": {
        "name": "ipython",
        "version": 3
      },
      "file_extension": ".py",
      "mimetype": "text/x-python",
      "name": "python",
      "nbconvert_exporter": "python",
      "pygments_lexer": "ipython3",
      "version": "3.7.2"
    }
  },
  "cells": [
    {
      "cell_type": "markdown",
      "metadata": {
        "id": "QszWw_SYtgqw",
        "colab_type": "text"
      },
      "source": [
        "# < CycleGAN - Summer To Winter >\n",
        "\n",
        "이 프로젝트는 CycleGAN을 통하여 여름 풍경 사진을 겨울 풍경 사진으로 변환하는 프로젝트입니다."
      ]
    },
    {
      "cell_type": "code",
      "metadata": {
        "id": "e2HMweh6kHbl",
        "colab_type": "code",
        "colab": {}
      },
      "source": [
        "!pip install --upgrade tensorflow"
      ],
      "execution_count": 0,
      "outputs": []
    },
    {
      "cell_type": "markdown",
      "metadata": {
        "id": "vXqaVdkMt5W9",
        "colab_type": "text"
      },
      "source": [
        "## (1) 데이터셋 다운로드"
      ]
    },
    {
      "cell_type": "code",
      "metadata": {
        "id": "asld2KUoawjz",
        "colab_type": "code",
        "colab": {}
      },
      "source": [
        "import tensorflow as tf\n",
        "print(tf.__version__)"
      ],
      "execution_count": 0,
      "outputs": []
    },
    {
      "cell_type": "code",
      "metadata": {
        "colab_type": "code",
        "id": "YfIk2es3hJEd",
        "colab": {}
      },
      "source": [
        "from __future__ import absolute_import, division, print_function, unicode_literals\n",
        "\n",
        "\n",
        "\n",
        "import os\n",
        "import time\n",
        "import matplotlib.pyplot as plt\n",
        "import numpy as np\n",
        "from IPython.display import clear_output\n",
        "\n",
        "from PIL import Image\n",
        "import cv2\n",
        "\n",
        "tfds.disable_progress_bar()\n",
        "AUTOTUNE = tf.data.experimental.AUTOTUNE"
      ],
      "execution_count": 0,
      "outputs": []
    },
    {
      "cell_type": "markdown",
      "metadata": {
        "id": "koyNtHWwuS23",
        "colab_type": "text"
      },
      "source": [
        "Tensorfow Dataset에서 summer2winter_yosemite 데이터 셋을 가져온 후, 분리한다."
      ]
    },
    {
      "cell_type": "code",
      "metadata": {
        "colab_type": "code",
        "id": "2CbTEt448b4R",
        "colab": {}
      },
      "source": [
        "BUFFER_SIZE = 1000\n",
        "BATCH_SIZE = 1\n",
        "IMG_WIDTH = 256\n",
        "IMG_HEIGHT = 256"
      ],
      "execution_count": 0,
      "outputs": []
    },
    {
      "cell_type": "markdown",
      "metadata": {
        "id": "iCfxfSZPvB2C",
        "colab_type": "text"
      },
      "source": [
        "## (2) 데이터셋 학습 전 준비 과정"
      ]
    },
    {
      "cell_type": "code",
      "metadata": {
        "colab_type": "code",
        "id": "Yn3IwqhiIszt",
        "colab": {}
      },
      "source": [
        "#이미지 주어진 크기에 따라 랜덤으로 분할,\n",
        "def random_crop(image):\n",
        "  cropped_image = tf.image.random_crop(\n",
        "      image, size=[IMG_HEIGHT, IMG_WIDTH, 3])\n",
        "\n",
        "  return cropped_image"
      ],
      "execution_count": 0,
      "outputs": []
    },
    {
      "cell_type": "code",
      "metadata": {
        "colab_type": "code",
        "id": "muhR2cgbLKWW",
        "colab": {}
      },
      "source": [
        "# \"-1 <= image <= 1\" 로 변환\n",
        "def normalize(image):\n",
        "  image = tf.cast(image, tf.float32)\n",
        "  image = (image / 127.5) - 1\n",
        "  return image"
      ],
      "execution_count": 0,
      "outputs": []
    },
    {
      "cell_type": "code",
      "metadata": {
        "colab_type": "code",
        "id": "fVQOjcPVLrUc",
        "colab": {}
      },
      "source": [
        "#이미지 변환 처리 중..\n",
        "def random_jitter(image):\n",
        "  # resizing to 286 x 286 x 3\n",
        "  image = tf.image.resize(image, [286, 286],\n",
        "                          method=tf.image.ResizeMethod.NEAREST_NEIGHBOR)\n",
        "\n",
        "  # randomly cropping to 256 x 256 x 3\n",
        "  image = random_crop(image)\n",
        "\n",
        "  # random mirroring\n",
        "  image = tf.image.random_flip_left_right(image)\n",
        "\n",
        "  return image"
      ],
      "execution_count": 0,
      "outputs": []
    },
    {
      "cell_type": "code",
      "metadata": {
        "colab_type": "code",
        "id": "tyaP4hLJ8b4W",
        "colab": {}
      },
      "source": [
        "def preprocess_image_train(image, label):\n",
        "  image = random_jitter(image)\n",
        "  image = normalize(image)\n",
        "  return image"
      ],
      "execution_count": 0,
      "outputs": []
    },
    {
      "cell_type": "code",
      "metadata": {
        "colab_type": "code",
        "id": "VB3Z6D_zKSru",
        "colab": {}
      },
      "source": [
        "def preprocess_image_test(image, label):\n",
        "  image = normalize(image)\n",
        "  return image"
      ],
      "execution_count": 0,
      "outputs": []
    },
    {
      "cell_type": "code",
      "metadata": {
        "id": "t_2LO0WPvMDd",
        "colab_type": "code",
        "colab": {}
      },
      "source": [
        "def preprocess_image_train_nl(image):\n",
        "  image = random_jitter(image)\n",
        "  image = normalize(image)\n",
        "  return image"
      ],
      "execution_count": 0,
      "outputs": []
    },
    {
      "cell_type": "code",
      "metadata": {
        "id": "B6TIIeOxudtj",
        "colab_type": "code",
        "colab": {}
      },
      "source": [
        "class imagedata:\n",
        "  def __init__(self, path,  w = 128, h = 192):\n",
        "    self.outp = Image.open(path).convert(\"RGB\")\n",
        "    \n",
        "    self.outp = self.outp.resize((w, h))\n",
        "    area = (0, 0, int(w/4), int(h/4))\n",
        "    self.inp = self.outp.crop(area)\n",
        "    self.inp = self.inp.resize((w, h))\n",
        "    self.oinp = self.inp\n",
        "    self.ooutp = self.outp\n",
        "    self.inp = np.array(self.oinp)\n",
        "    self.outp = np.array(self.ooutp)\n",
        "    self.inp = cv2.cvtColor(self.inp, cv2.COLOR_BGR2RGB)\n",
        "    self.outp = cv2.cvtColor(self.outp, cv2.COLOR_BGR2RGB)\n",
        "    self.inp = preprocess_image_train_nl(self.inp)\n",
        "    self.outp = preprocess_image_train_nl(self.outp)"
      ],
      "execution_count": 0,
      "outputs": []
    },
    {
      "cell_type": "code",
      "metadata": {
        "id": "6RDz38oCu3d9",
        "colab_type": "code",
        "colab": {}
      },
      "source": [
        "PATH_DIR='./Dataset/'\n",
        "filelist = []\n",
        "\n",
        "for i in [file for file in os.listdir(PATH_DIR) if file.endswith(\".png\") or file.endswith(\".jpg\") or file.endswith(\".jpge\")]:\n",
        "  filelist.append(imagedata(PATH_DIR + str(i)))"
      ],
      "execution_count": 0,
      "outputs": []
    },
    {
      "cell_type": "markdown",
      "metadata": {
        "id": "2poiPljBvN5C",
        "colab_type": "text"
      },
      "source": [
        "## (3) 각 데이터셋의 첫 데이터를 띄운다."
      ]
    },
    {
      "cell_type": "markdown",
      "metadata": {
        "id": "6PcHckCev_UM",
        "colab_type": "text"
      },
      "source": [
        "## (4) CycleGAN 신경망 구성\n",
        "> https://subinium.github.io/introduction-to-normalization/ : 정규화에 대한 글"
      ]
    },
    {
      "cell_type": "code",
      "metadata": {
        "id": "0IlQSFbfeYWe",
        "colab_type": "code",
        "colab": {}
      },
      "source": [
        "#인스턴스 정규화 (IN) - 각 채널에서 정규화가 이루어짐\n",
        "class InstanceNormalization(tf.keras.layers.Layer):\n",
        "  def __init__(self, epsilon=1e-5):\n",
        "    super(InstanceNormalization, self).__init__()\n",
        "    self.epsilon = epsilon\n",
        "\n",
        "  def build(self, input_shape):\n",
        "    self.scale = self.add_weight(\n",
        "        name='scale',\n",
        "        shape=input_shape[-1:],\n",
        "        initializer=tf.random_normal_initializer(1., 0.02),\n",
        "        trainable=True)\n",
        "\n",
        "    self.offset = self.add_weight(\n",
        "        name='offset',\n",
        "        shape=input_shape[-1:],\n",
        "        initializer='zeros',\n",
        "        trainable=True)\n",
        "\n",
        "  def call(self, x):\n",
        "    mean, variance = tf.nn.moments(x, axes=[1, 2], keepdims=True)\n",
        "    inv = tf.math.rsqrt(variance + self.epsilon)\n",
        "    normalized = (x - mean) * inv\n",
        "    return self.scale * normalized + self.offset"
      ],
      "execution_count": 0,
      "outputs": []
    },
    {
      "cell_type": "code",
      "metadata": {
        "id": "WsxyzvrDc_WN",
        "colab_type": "code",
        "colab": {}
      },
      "source": [
        "#다운샘플링 - UNET의 하강 부분에서 학습데이터를 압축하여 feature을 얻어내는 역할을 함.\n",
        "def downsample(filters, size, norm_type='batchnorm', apply_norm=True):\n",
        "  initializer = tf.random_normal_initializer(0., 0.02)\n",
        "\n",
        "  result = tf.keras.Sequential()\n",
        "  result.add(\n",
        "      tf.keras.layers.Conv2D(filters, size, strides=2, padding='same',\n",
        "                             kernel_initializer=initializer, use_bias=False))\n",
        "\n",
        "  if apply_norm:\n",
        "    if norm_type.lower() == 'batchnorm':\n",
        "      result.add(tf.keras.layers.BatchNormalization())\n",
        "    elif norm_type.lower() == 'instancenorm':\n",
        "      result.add(InstanceNormalization())\n",
        "\n",
        "  result.add(tf.keras.layers.LeakyReLU())\n",
        "\n",
        "  return result\n",
        "\n",
        "#업샘플링 - UNET의 상승 부분에서 학습데이터를 압축 해제하여, 원래 학습 데이터와 해상도를 일치시키는 역할을 함.\n",
        "def upsample(filters, size, norm_type='batchnorm', apply_dropout=False):\n",
        "  initializer = tf.random_normal_initializer(0., 0.02)\n",
        "\n",
        "  result = tf.keras.Sequential()\n",
        "  result.add(\n",
        "      tf.keras.layers.Conv2DTranspose(filters, size, strides=2,\n",
        "                                      padding='same',\n",
        "                                      kernel_initializer=initializer,\n",
        "                                      use_bias=False))\n",
        "\n",
        "  if norm_type.lower() == 'batchnorm':\n",
        "    result.add(tf.keras.layers.BatchNormalization())\n",
        "  elif norm_type.lower() == 'instancenorm':\n",
        "    result.add(InstanceNormalization())\n",
        "\n",
        "  if apply_dropout:\n",
        "    result.add(tf.keras.layers.Dropout(0.5))\n",
        "\n",
        "  result.add(tf.keras.layers.ReLU())\n",
        "\n",
        "  return result"
      ],
      "execution_count": 0,
      "outputs": []
    },
    {
      "cell_type": "code",
      "metadata": {
        "id": "LmIbhkLRc3co",
        "colab_type": "code",
        "colab": {}
      },
      "source": [
        "#CycleGAN의 Generator 신경망을 U-NET으로 구성하는 역할을 함\n",
        "def unet_generator(output_channels, norm_type='batchnorm'):\n",
        "  down_stack = [\n",
        "      downsample(64, 4, norm_type, apply_norm=False),  # (bs, 128, 128, 64)\n",
        "      downsample(128, 4, norm_type),  # (bs, 64, 64, 128)\n",
        "      downsample(256, 4, norm_type),  # (bs, 32, 32, 256)\n",
        "      downsample(512, 4, norm_type),  # (bs, 16, 16, 512)\n",
        "      downsample(512, 4, norm_type),  # (bs, 8, 8, 512)\n",
        "      downsample(512, 4, norm_type),  # (bs, 4, 4, 512)\n",
        "      downsample(512, 4, norm_type),  # (bs, 2, 2, 512)\n",
        "      downsample(512, 4, norm_type),  # (bs, 1, 1, 512)\n",
        "  ]\n",
        "\n",
        "  up_stack = [\n",
        "      upsample(512, 4, norm_type, apply_dropout=True),  # (bs, 2, 2, 1024)\n",
        "      upsample(512, 4, norm_type, apply_dropout=True),  # (bs, 4, 4, 1024)\n",
        "      upsample(512, 4, norm_type, apply_dropout=True),  # (bs, 8, 8, 1024)\n",
        "      upsample(512, 4, norm_type),  # (bs, 16, 16, 1024)\n",
        "      upsample(256, 4, norm_type),  # (bs, 32, 32, 512)\n",
        "      upsample(128, 4, norm_type),  # (bs, 64, 64, 256)\n",
        "      upsample(64, 4, norm_type),  # (bs, 128, 128, 128)\n",
        "  ]\n",
        "\n",
        "  initializer = tf.random_normal_initializer(0., 0.02)\n",
        "  last = tf.keras.layers.Conv2DTranspose(\n",
        "      output_channels, 4, strides=2,\n",
        "      padding='same', kernel_initializer=initializer,\n",
        "      activation='tanh')  # (bs, 256, 256, 3)\n",
        "\n",
        "  concat = tf.keras.layers.Concatenate()\n",
        "\n",
        "  inputs = tf.keras.layers.Input(shape=[None, None, 3])\n",
        "  x = inputs\n",
        "\n",
        "  # Downsampling through the model\n",
        "  skips = []\n",
        "  for down in down_stack:\n",
        "    x = down(x)\n",
        "    skips.append(x)\n",
        "\n",
        "  skips = reversed(skips[:-1])\n",
        "\n",
        "  # Upsampling and establishing the skip connections\n",
        "  for up, skip in zip(up_stack, skips):\n",
        "    x = up(x)\n",
        "    x = concat([x, skip])\n",
        "\n",
        "  x = last(x)\n",
        "\n",
        "  return tf.keras.Model(inputs=inputs, outputs=x)\n",
        "\n",
        "#CycleGAN의 Discriminato 신경망을 구성하는 역할을 함\n",
        "def discriminator(norm_type='batchnorm', target=True):\n",
        "  initializer = tf.random_normal_initializer(0., 0.02)\n",
        "\n",
        "  inp = tf.keras.layers.Input(shape=[None, None, 3], name='input_image')\n",
        "  x = inp\n",
        "\n",
        "  if target:\n",
        "    tar = tf.keras.layers.Input(shape=[None, None, 3], name='target_image')\n",
        "    x = tf.keras.layers.concatenate([inp, tar])  # (bs, 256, 256, channels*2)\n",
        "\n",
        "  down1 = downsample(64, 4, norm_type, False)(x)  # (bs, 128, 128, 64)\n",
        "  down2 = downsample(128, 4, norm_type)(down1)  # (bs, 64, 64, 128)\n",
        "  down3 = downsample(256, 4, norm_type)(down2)  # (bs, 32, 32, 256)\n",
        "\n",
        "  zero_pad1 = tf.keras.layers.ZeroPadding2D()(down3)  # (bs, 34, 34, 256)\n",
        "  conv = tf.keras.layers.Conv2D(\n",
        "      512, 4, strides=1, kernel_initializer=initializer,\n",
        "      use_bias=False)(zero_pad1)  # (bs, 31, 31, 512)\n",
        "\n",
        "  if norm_type.lower() == 'batchnorm':\n",
        "    norm1 = tf.keras.layers.BatchNormalization()(conv)\n",
        "  elif norm_type.lower() == 'instancenorm':\n",
        "    norm1 = InstanceNormalization()(conv)\n",
        "\n",
        "  leaky_relu = tf.keras.layers.LeakyReLU()(norm1)\n",
        "\n",
        "  zero_pad2 = tf.keras.layers.ZeroPadding2D()(leaky_relu)  # (bs, 33, 33, 512)\n",
        "\n",
        "  last = tf.keras.layers.Conv2D(\n",
        "      1, 4, strides=1,\n",
        "      kernel_initializer=initializer)(zero_pad2)  # (bs, 30, 30, 1)\n",
        "\n",
        "  if target:\n",
        "    return tf.keras.Model(inputs=[inp, tar], outputs=last)\n",
        "  else:\n",
        "    return tf.keras.Model(inputs=inp, outputs=last)"
      ],
      "execution_count": 0,
      "outputs": []
    },
    {
      "cell_type": "markdown",
      "metadata": {
        "id": "_rFcCDT0ymn-",
        "colab_type": "text"
      },
      "source": [
        "## (5) 신경망 준비\n",
        "*Generator* 함수 **G**와 **F**는 ***역함수*** 관계</br>\n",
        "*Discriminator* 함수 **X**와 **Y**는 ***역함수*** 관계"
      ]
    },
    {
      "cell_type": "code",
      "metadata": {
        "colab_type": "code",
        "id": "8ju9Wyw87MRW",
        "colab": {}
      },
      "source": [
        "OUTPUT_CHANNELS = 3\n",
        "\n",
        "generator_g = unet_generator(OUTPUT_CHANNELS, norm_type='instancenorm')\n",
        "generator_f = unet_generator(OUTPUT_CHANNELS, norm_type='instancenorm')\n",
        "\n",
        "discriminator_x = discriminator(norm_type='instancenorm', target=False)\n",
        "discriminator_y = discriminator(norm_type='instancenorm', target=False)"
      ],
      "execution_count": 0,
      "outputs": []
    },
    {
      "cell_type": "code",
      "metadata": {
        "colab_type": "code",
        "id": "cyhxTuvJyIHV",
        "colab": {}
      },
      "source": [
        "LAMBDA = 10"
      ],
      "execution_count": 0,
      "outputs": []
    },
    {
      "cell_type": "code",
      "metadata": {
        "colab_type": "code",
        "id": "Q1Xbz5OaLj5C",
        "colab": {}
      },
      "source": [
        "loss_obj = tf.keras.losses.BinaryCrossentropy(from_logits=True)"
      ],
      "execution_count": 0,
      "outputs": []
    },
    {
      "cell_type": "code",
      "metadata": {
        "colab_type": "code",
        "id": "wkMNfBWlT-PV",
        "colab": {}
      },
      "source": [
        "#Discriminator 함수의 손실 구하기\n",
        "def discriminator_loss(real, generated):\n",
        "  real_loss = loss_obj(tf.ones_like(real), real)\n",
        "\n",
        "  generated_loss = loss_obj(tf.zeros_like(generated), generated)\n",
        "\n",
        "  total_disc_loss = real_loss + generated_loss\n",
        "\n",
        "  return total_disc_loss * 0.5"
      ],
      "execution_count": 0,
      "outputs": []
    },
    {
      "cell_type": "code",
      "metadata": {
        "colab_type": "code",
        "id": "90BIcCKcDMxz",
        "colab": {}
      },
      "source": [
        "#Generator 함수의 손실 구하기\n",
        "def generator_loss(generated):\n",
        "  return loss_obj(tf.ones_like(generated), generated)"
      ],
      "execution_count": 0,
      "outputs": []
    },
    {
      "cell_type": "code",
      "metadata": {
        "colab_type": "code",
        "id": "NMpVGj_sW6Vo",
        "colab": {}
      },
      "source": [
        "#Generator을 통하여 변환된 이미지와 실제 이미지 사이의 손실 계산\n",
        "def calc_cycle_loss(real_image, cycled_image):\n",
        "  loss1 = tf.reduce_mean(tf.abs(real_image - cycled_image))\n",
        "  \n",
        "  return LAMBDA * loss1"
      ],
      "execution_count": 0,
      "outputs": []
    },
    {
      "cell_type": "code",
      "metadata": {
        "colab_type": "code",
        "id": "05ywEH680Aud",
        "colab": {}
      },
      "source": [
        "#CycleGAN과 GAN의 차이인 \"생성된 이미지 -> 원래 이미지\"의 복원 가능성 손실 계산\n",
        "def identity_loss(real_image, same_image):\n",
        "  loss = tf.reduce_mean(tf.abs(real_image - same_image))\n",
        "  return LAMBDA * 0.5 * loss"
      ],
      "execution_count": 0,
      "outputs": []
    },
    {
      "cell_type": "markdown",
      "metadata": {
        "id": "31X1dBT80eRO",
        "colab_type": "text"
      },
      "source": [
        "## (9) 학습 준비"
      ]
    },
    {
      "cell_type": "code",
      "metadata": {
        "colab_type": "code",
        "id": "iWCn_PVdEJZ7",
        "colab": {}
      },
      "source": [
        "#옵티마이저 설정\n",
        "generator_g_optimizer = tf.keras.optimizers.Adam(2e-4, beta_1=0.5)\n",
        "generator_f_optimizer = tf.keras.optimizers.Adam(2e-4, beta_1=0.5)\n",
        "\n",
        "discriminator_x_optimizer = tf.keras.optimizers.Adam(2e-4, beta_1=0.5)\n",
        "discriminator_y_optimizer = tf.keras.optimizers.Adam(2e-4, beta_1=0.5)"
      ],
      "execution_count": 0,
      "outputs": []
    },
    {
      "cell_type": "code",
      "metadata": {
        "colab_type": "code",
        "id": "WJnftd5sQsv6",
        "colab": {}
      },
      "source": [
        "#만약 전에 학습시킨 모델이 있다면, 불러와서 이어서 학습 & 없다면 새로 학습\n",
        "checkpoint_path = \"./checkpoints/train\"\n",
        "\n",
        "ckpt = tf.train.Checkpoint(generator_g=generator_g,\n",
        "                           generator_f=generator_f,\n",
        "                           discriminator_x=discriminator_x,\n",
        "                           discriminator_y=discriminator_y,\n",
        "                           generator_g_optimizer=generator_g_optimizer,\n",
        "                           generator_f_optimizer=generator_f_optimizer,\n",
        "                           discriminator_x_optimizer=discriminator_x_optimizer,\n",
        "                           discriminator_y_optimizer=discriminator_y_optimizer)\n",
        "\n",
        "ckpt_manager = tf.train.CheckpointManager(ckpt, checkpoint_path, max_to_keep=5)\n",
        "\n",
        "if ckpt_manager.latest_checkpoint:\n",
        "  ckpt.restore(ckpt_manager.latest_checkpoint)\n",
        "  print ('Latest checkpoint restored!!')"
      ],
      "execution_count": 0,
      "outputs": []
    },
    {
      "cell_type": "code",
      "metadata": {
        "colab_type": "code",
        "id": "NS2GWywBbAWo",
        "colab": {}
      },
      "source": [
        "#학습 횟수\n",
        "EPOCHS = 2"
      ],
      "execution_count": 0,
      "outputs": []
    },
    {
      "cell_type": "code",
      "metadata": {
        "colab_type": "code",
        "id": "RmdVsmvhPxyy",
        "colab": {}
      },
      "source": [
        "#이미지를 Generator을 통해서 \"여름->겨울\"로 변환하는 함수\n",
        "def generate_images(model, test_input):\n",
        "  prediction = model(test_input)\n",
        "    \n",
        "  plt.figure(figsize=(12, 12))\n",
        "\n",
        "  display_list = [test_input[0], prediction[0]]\n",
        "  title = ['Input Image', 'Predicted Image']\n",
        "\n",
        "  for i in range(2):\n",
        "    plt.subplot(1, 2, i+1)\n",
        "    plt.title(title[i])\n",
        "    # getting the pixel values between [0, 1] to plot it.\n",
        "    plt.imshow(display_list[i] * 0.5 + 0.5)\n",
        "    plt.axis('off')\n",
        "  plt.show()"
      ],
      "execution_count": 0,
      "outputs": []
    },
    {
      "cell_type": "markdown",
      "metadata": {
        "id": "VWjQvnZA0kG2",
        "colab_type": "text"
      },
      "source": [
        "## (10) 학습 함수 구성"
      ]
    },
    {
      "cell_type": "code",
      "metadata": {
        "colab_type": "code",
        "id": "KBKUV2sKXDbY",
        "colab": {}
      },
      "source": [
        "#학습 함수\n",
        "@tf.function\n",
        "def train_step(real_x, real_y):\n",
        "\n",
        "  # persistent is set to True because the tape is used more than\n",
        "  # once to calculate the gradients.\n",
        "  with tf.GradientTape(persistent=True) as tape:\n",
        "    # Generator G 는 X -> Y 로 변환\n",
        "    # Generator F 는 Y -> X 로 변환\n",
        "\n",
        "\n",
        "    fake_y = generator_g(real_x, training=True)\n",
        "\n",
        "    cycled_x = generator_f(fake_y, training=True)\n",
        "\n",
        "    fake_x = generator_f(real_y, training=True)\n",
        "\n",
        "    cycled_y = generator_g(fake_x, training=True)\n",
        "\n",
        "    # same_x & same_y 는 \"생성된 이미지 -> 원래 이미지\"의 복원 가능성 손실 계산에 이용됨.\n",
        "    same_x = generator_f(real_x, training=True)\n",
        "\n",
        "    same_y = generator_g(real_y, training=True)\n",
        "\n",
        "\n",
        "    \n",
        "    disc_real_x = discriminator_x(real_x, training=True)\n",
        "\n",
        "    disc_real_y = discriminator_y(real_y, training=True)\n",
        "\n",
        "\n",
        "    disc_fake_x = discriminator_x(fake_x, training=True)\n",
        "\n",
        "    disc_fake_y = discriminator_y(fake_y, training=True)\n",
        "\n",
        "\n",
        "    # 해당 손실 연산\n",
        "    gen_g_loss = generator_loss(disc_fake_y)\n",
        "    gen_f_loss = generator_loss(disc_fake_x)\n",
        "    \n",
        "    total_cycle_loss = calc_cycle_loss(real_x, cycled_x) + calc_cycle_loss(real_y, cycled_y)\n",
        "    \n",
        "    # 총합 손실 연산\n",
        "    total_gen_g_loss = gen_g_loss + total_cycle_loss + identity_loss(real_y, same_y)\n",
        "    total_gen_f_loss = gen_f_loss + total_cycle_loss + identity_loss(real_x, same_x)\n",
        "\n",
        "    disc_x_loss = discriminator_loss(disc_real_x, disc_fake_x)\n",
        "    disc_y_loss = discriminator_loss(disc_real_y, disc_fake_y)\n",
        "  \n",
        "  # 가중치 연산\n",
        "\n",
        "  generator_g_gradients = tape.gradient(total_gen_g_loss, \n",
        "                                        generator_g.trainable_variables)\n",
        "\n",
        "  generator_f_gradients = tape.gradient(total_gen_f_loss, \n",
        "                                        generator_f.trainable_variables)\n",
        "\n",
        "  discriminator_x_gradients = tape.gradient(disc_x_loss, \n",
        "                                            discriminator_x.trainable_variables)\n",
        "\n",
        "  discriminator_y_gradients = tape.gradient(disc_y_loss, \n",
        "                                            discriminator_y.trainable_variables)\n",
        "  \n",
        "  # 가중치 갱신\n",
        "\n",
        "  generator_g_optimizer.apply_gradients(zip(generator_g_gradients, \n",
        "                                            generator_g.trainable_variables))\n",
        "\n",
        "  generator_f_optimizer.apply_gradients(zip(generator_f_gradients, \n",
        "                                            generator_f.trainable_variables))\n",
        "\n",
        "  discriminator_x_optimizer.apply_gradients(zip(discriminator_x_gradients,\n",
        "                                                discriminator_x.trainable_variables))\n",
        "\n",
        "  discriminator_y_optimizer.apply_gradients(zip(discriminator_y_gradients,\n",
        "                                                discriminator_y.trainable_variables))\n"
      ],
      "execution_count": 0,
      "outputs": []
    },
    {
      "cell_type": "code",
      "metadata": {
        "id": "jY_8lH3mMUTT",
        "colab_type": "code",
        "colab": {}
      },
      "source": [
        "train_x = []\n",
        "train_y = []\n",
        "\n",
        "for i in filelist:\n",
        "  train_x.append(i.inp)\n",
        "  train_y.append(i.outp)"
      ],
      "execution_count": 0,
      "outputs": []
    },
    {
      "cell_type": "code",
      "metadata": {
        "id": "5eiestJvL-6v",
        "colab_type": "code",
        "colab": {}
      },
      "source": [
        "train_x = np.array(train_x)\n",
        "train_y = np.array(train_y)\n",
        "\n"
      ],
      "execution_count": 0,
      "outputs": []
    },
    {
      "cell_type": "code",
      "metadata": {
        "id": "BsJp84S1Pe19",
        "colab_type": "code",
        "colab": {}
      },
      "source": [
        "print(train_x.shape)\n",
        "print(train_y.shape)"
      ],
      "execution_count": 0,
      "outputs": []
    },
    {
      "cell_type": "code",
      "metadata": {
        "id": "J0Z3puulRgUL",
        "colab_type": "code",
        "colab": {}
      },
      "source": [
        "generate_images(generator_g, filelist[0].inp[np.newaxis] )"
      ],
      "execution_count": 0,
      "outputs": []
    },
    {
      "cell_type": "markdown",
      "metadata": {
        "id": "12kfQlsq1otX",
        "colab_type": "text"
      },
      "source": [
        "## (11) 학습 시작"
      ]
    },
    {
      "cell_type": "code",
      "metadata": {
        "colab_type": "code",
        "id": "2M7LmLtGEMQJ",
        "colab": {}
      },
      "source": [
        "for epoch in range(EPOCHS):\n",
        "\n",
        "  print(\"학습 시작\")\n",
        "  train_step(train_x, train_y)\n",
        "  print(\"학습 완료\")\n",
        "  '''\n",
        "  n = 0\n",
        "  for image_x, image_y in tf.data.Dataset.zip((train_x, train_y)):\n",
        "    print(\"for문 진입\")\n",
        "    train_step(image_x, image_y)\n",
        "    if n % 10 == 0:\n",
        "      print ('.', end='')\n",
        "    n+=1'''\n",
        "\n",
        "  \n",
        "\n",
        "\n",
        "\n",
        "  clear_output(wait=True)\n",
        "  # Using a consistent image (sample_summer) so that the progress of the model\n",
        "  # is clearly visible.\n",
        "  generate_images(generator_g, filelist[0].inp[np.newaxis])\n",
        "\n",
        "  if (epoch + 1) % 5 == 0:\n",
        "    ckpt_save_path = ckpt_manager.save()\n",
        "    print ('Saving checkpoint for epoch {} at {}'.format(epoch+1,\n",
        "                                                         ckpt_save_path))"
      ],
      "execution_count": 0,
      "outputs": []
    },
    {
      "cell_type": "markdown",
      "metadata": {
        "id": "kkMcHEQO1ruM",
        "colab_type": "text"
      },
      "source": [
        "## (12) 테스트 데이터에서 몇개를 추출하여 변환 테스트"
      ]
    },
    {
      "cell_type": "code",
      "metadata": {
        "id": "_klL6oaEvJqR",
        "colab_type": "code",
        "colab": {}
      },
      "source": [
        "generate_images(generator_g, filelist[0].inp[np.newaxis])"
      ],
      "execution_count": 0,
      "outputs": []
    }
  ]
}